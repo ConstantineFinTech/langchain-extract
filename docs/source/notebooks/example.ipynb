{
 "cells": [
  {
   "cell_type": "markdown",
   "id": "7e43ed67-9fbb-4d6c-9a5d-8c4addeb2ed5",
   "metadata": {},
   "source": [
    "# Client Example"
   ]
  },
  {
   "cell_type": "code",
   "execution_count": 1,
   "id": "b123c960-a0b4-4d5e-b15f-729de23974f5",
   "metadata": {
    "tags": []
   },
   "outputs": [],
   "source": [
    "from langserve import RemoteRunnable"
   ]
  },
  {
   "cell_type": "code",
   "execution_count": 2,
   "id": "19dafdeb-63c5-4218-b0f9-fc20754369be",
   "metadata": {},
   "outputs": [],
   "source": [
    "from typing import Optional, List\n",
    "from pydantic import BaseModel, Field\n",
    "import requests\n",
    "\n",
    "class Person(BaseModel):\n",
    "    age: Optional[int] = Field(None, description=\"The age of the person in years.\")\n",
    "    name: Optional[str] = Field(None, description=\"The name of the person.\")\n",
    "    alias: Optional[str] = Field(None, description=\"Alias, if any.\")\n",
    "    \n",
    "class Root(BaseModel):\n",
    "    \"\"\"A list of people that are mentioend in the text.\"\"\"\n",
    "    people: List[Person] = Field(None, description=\"List of people\")"
   ]
  },
  {
   "cell_type": "code",
   "execution_count": 3,
   "id": "bf79ef88-b816-46aa-addf-9366b7ebdcaf",
   "metadata": {
    "tags": []
   },
   "outputs": [],
   "source": [
    "runnable = RemoteRunnable(\"http://localhost:8000/extract_text/\")"
   ]
  },
  {
   "cell_type": "code",
   "execution_count": 4,
   "id": "5f102a5c-a80c-4480-863b-30f3aaad5afe",
   "metadata": {
    "tags": []
   },
   "outputs": [],
   "source": [
    "text = \"\"\"\n",
    "My name is Chester. i am 42 years old. My friend Jane is a year older than me.\n",
    "\"\"\""
   ]
  },
  {
   "cell_type": "code",
   "execution_count": 5,
   "id": "553d7dbc-9117-4834-83b1-11e28a513170",
   "metadata": {
    "tags": []
   },
   "outputs": [
    {
     "data": {
      "text/plain": [
       "{'extracted': {'people': [{'name': 'Chester', 'age': 42}, {'name': 'Jane'}]}}"
      ]
     },
     "execution_count": 5,
     "metadata": {},
     "output_type": "execute_result"
    }
   ],
   "source": [
    "response = runnable.invoke({\"text\": text, \"schema\": Root.schema()})\n",
    "response"
   ]
  },
  {
   "cell_type": "code",
   "execution_count": 6,
   "id": "97294409-6daf-418d-9cbe-f44946245e35",
   "metadata": {},
   "outputs": [
    {
     "data": {
      "text/plain": [
       "{'extracted': {'people': [{'age': 42, 'name': '######', 'alias': 'Chester'},\n",
       "   {'age': 43, 'name': '######', 'alias': 'Jane'}]}}"
      ]
     },
     "execution_count": 6,
     "metadata": {},
     "output_type": "execute_result"
    }
   ],
   "source": [
    "instructions = \"Redact all names using the characters `######`\"\n",
    "examples = [\n",
    "    {\n",
    "        \"text\": \"My name is Grung. I am 100.\",\n",
    "        \"output\": Root(people=[Person(age=100, name=\"######\")]).dict(),\n",
    "    },\n",
    "]\n",
    "\n",
    "response = runnable.invoke(\n",
    "    {\n",
    "        \"text\": text,\n",
    "        \"schema\": Root.schema(),\n",
    "        \"instructions\": instructions,\n",
    "        \"examples\": examples,\n",
    "    }\n",
    ")\n",
    "response"
   ]
  }
 ],
 "metadata": {
  "kernelspec": {
   "display_name": "Python 3 (ipykernel)",
   "language": "python",
   "name": "python3"
  },
  "language_info": {
   "codemirror_mode": {
    "name": "ipython",
    "version": 3
   },
   "file_extension": ".py",
   "mimetype": "text/x-python",
   "name": "python",
   "nbconvert_exporter": "python",
   "pygments_lexer": "ipython3",
   "version": "3.10.4"
  }
 },
 "nbformat": 4,
 "nbformat_minor": 5
}
