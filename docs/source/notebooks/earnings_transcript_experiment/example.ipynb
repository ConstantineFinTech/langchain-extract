{
 "cells": [
  {
   "cell_type": "markdown",
   "id": "fc389a2d-65fd-4f85-9dd0-9cbafac36683",
   "metadata": {},
   "source": [
    "# Example: extracting structured data from earnings call transcripts\n",
    "\n",
    "Most public companies host earnings calls, providing their management opportunities to discuss past financial results and future plans. Natural language transcripts of these calls may contain useful information, but often this information must first be extracted from the document and arranged into a structured form so that it can be analyzed or compared across time periods and other companies.\n",
    "\n",
    "Here we demonstrate the use of a LLM-powered extraction service on extracting information from Tesla's recent Q4 2023 earnings call. We show the importance of incorporating few-shot learning to accurate extraction in a real-world context.\n",
    "\n",
    "This transcript is available [online](https://www.fool.com/earnings/call-transcripts/2024/01/24/tesla-tsla-q4-2023-earnings-call-transcript/), and we have copied it into a plain text file for convenience."
   ]
  },
  {
   "cell_type": "markdown",
   "id": "da4a71cd-cb22-4e46-9e43-e4294b43fe08",
   "metadata": {},
   "source": [
    "We first load and inspect the transcript:"
   ]
  },
  {
   "cell_type": "code",
   "execution_count": 1,
   "id": "024d50f9-f853-46b6-aab9-1a586e91ccca",
   "metadata": {
    "tags": []
   },
   "outputs": [],
   "source": [
    "with open(\"tsla_q4_2023_transcript.txt\", \"r\") as fp:\n",
    "    doc_content = fp.read()"
   ]
  },
  {
   "cell_type": "code",
   "execution_count": 2,
   "id": "d9e0beb5-6cbc-4089-8b0e-b1f0a8476a00",
   "metadata": {
    "tags": []
   },
   "outputs": [
    {
     "name": "stdout",
     "output_type": "stream",
     "text": [
      "source: https://www.fool.com/earnings/call-transcripts/2024/01/24/tesla-tsla-q4-2023-earnings-call-transcript/\n",
      "\n",
      "Martin Viecha\n",
      "\n",
      "Good afternoon, everyone, and welcome to Tesla's fourth-quarter 2023 Q&A webcast. My name is Martin Viecha, VP of investor relations, and I'm joined today by Elon Musk, Vaibhav Taneja, and a number of other executives. Our Q4 results were announced at about 3 p.m. Central Time in the update that we published at the same link as this webcast.\n",
      "\n",
      "During this call, we will discuss our business outlook and make forward-looking statements. These comments are based on our predictions and expectations as of today. Actual events or results could differ materially due to a number of risks and uncertainties, including those mentioned in our most recent filings with the SEC. [Operator instructions] But before we jump into Q&A, Elon has some opening remarks.\n",
      "\n",
      "Elon.\n",
      "\n",
      "Elon Musk -- Chief Executive Officer and Product Architect\n",
      "\n",
      "Thank you. So, the Tesla team did an incredible job in 2023. We achieved a record production and deliveries of over 1.8 million vehicles, in line with our official guidance. And in Q4, we're producing vehicles at an annualized run rate of almost 2 million cars a year.\n",
      "\n",
      "This was really a phenomenal achievement. Looking at just the Fremont Factory alone, we made 560,000 cars. This is a record. In fact, it's the highest-output automotive plant in North America.\n",
      "\n",
      "And people are often surprised that the -- the highest-output factory -- car factory i\n"
     ]
    }
   ],
   "source": [
    "# head\n",
    "print(doc_content[:1500])"
   ]
  },
  {
   "cell_type": "code",
   "execution_count": 3,
   "id": "0e0c9069-f698-4e56-a009-d11ec8ce3a27",
   "metadata": {
    "tags": []
   },
   "outputs": [
    {
     "name": "stdout",
     "output_type": "stream",
     "text": [
      "ons because we had enough, you know, NOLs, etc., wherein we didn't have to accrue book taxes.\n",
      "\n",
      "Now that the valuation allowance has been released and we have recognized deferred tax assets on the books, that means your tax rate immediately goes up.\n",
      "\n",
      "Martin Viecha\n",
      "\n",
      "OK. I think that's all the time we have for today. Thank you so much for all of your questions, and we'll speak to you again in three months. Thank you.\n",
      "\n",
      "Bye-bye.\n",
      "\n",
      "Elon Musk -- Chief Executive Officer and Product Architect\n",
      "\n",
      "Thank you.\n",
      "\n"
     ]
    }
   ],
   "source": [
    "# tail\n",
    "print(doc_content[-500:])"
   ]
  },
  {
   "cell_type": "markdown",
   "id": "a4439384-5e21-4420-9067-3c563e78c399",
   "metadata": {},
   "source": [
    "To simplify and accelerate our analysis, we split the transcript into smaller chunks:"
   ]
  },
  {
   "cell_type": "code",
   "execution_count": 4,
   "id": "ec025bb3-43cf-4169-b2a3-81d259289b27",
   "metadata": {
    "tags": []
   },
   "outputs": [],
   "source": [
    "from langchain.text_splitter import CharacterTextSplitter\n",
    "\n",
    "\n",
    "text_splitter = CharacterTextSplitter(\n",
    "    separator=\"\\n\\n\",\n",
    "    chunk_size=1000,\n",
    "    chunk_overlap=200,\n",
    ")\n",
    "docs = text_splitter.create_documents([doc_content])"
   ]
  },
  {
   "cell_type": "markdown",
   "id": "5f1a1dd4-1d0c-4191-9207-a7bf0356c012",
   "metadata": {},
   "source": [
    "Let's examine one of the earlier sections of the transcript, which include production statistics across vehicle categories for Tesla:"
   ]
  },
  {
   "cell_type": "code",
   "execution_count": 5,
   "id": "5135874c-0140-46e8-89ff-a03b2119f0c1",
   "metadata": {
    "tags": []
   },
   "outputs": [
    {
     "data": {
      "text/plain": [
       "Document(page_content=\"Elon.\\n\\nElon Musk -- Chief Executive Officer and Product Architect\\n\\nThank you. So, the Tesla team did an incredible job in 2023. We achieved a record production and deliveries of over 1.8 million vehicles, in line with our official guidance. And in Q4, we're producing vehicles at an annualized run rate of almost 2 million cars a year.\\n\\nThis was really a phenomenal achievement. Looking at just the Fremont Factory alone, we made 560,000 cars. This is a record. In fact, it's the highest-output automotive plant in North America.\\n\\nAnd people are often surprised that the -- the highest-output factory -- car factory in North America is in the San Francisco Bay area. It's a little counterintuitive, perhaps. And the -- it's really had an incredibly positive impact on that entire area. What would have been a rundown strip mall is the highest-productivity car plant in the -- in the Americas.\")"
      ]
     },
     "execution_count": 5,
     "metadata": {},
     "output_type": "execute_result"
    }
   ],
   "source": [
    "doc = docs[1]\n",
    "doc"
   ]
  },
  {
   "cell_type": "markdown",
   "id": "71327708-8cc7-4e10-97f7-7d799205537b",
   "metadata": {},
   "source": [
    "We're ready to extract. Because the service is deployed with [Langserve](https://python.langchain.com/docs/langserve), we can access it via a RemoteRunnable:"
   ]
  },
  {
   "cell_type": "code",
   "execution_count": 6,
   "id": "400342bc-b5b0-4e0f-b534-20312ec6a332",
   "metadata": {
    "tags": []
   },
   "outputs": [],
   "source": [
    "from langserve import RemoteRunnable\n",
    "\n",
    "runnable = RemoteRunnable(\"http://localhost:8000/extract_text/\")"
   ]
  },
  {
   "cell_type": "markdown",
   "id": "ae3f401d-1397-4407-9612-55ab3fc2eed6",
   "metadata": {},
   "source": [
    "This paragraph of the transcript includes some all-up statistics on Tesla's vehicle production. Records of these statistics might need to associate a time period with the production counts. We can define a `VehicleProduction` record as a Pydantic BaseModel and attach some simple descriptions to each field:"
   ]
  },
  {
   "cell_type": "code",
   "execution_count": 7,
   "id": "ca3e8518-c6f2-42f7-aa0b-9ebed842d829",
   "metadata": {
    "tags": []
   },
   "outputs": [],
   "source": [
    "from typing import List, Optional\n",
    "from pydantic import BaseModel, Field\n",
    "\n",
    "class VehicleProduction(BaseModel):\n",
    "    count: int = Field(..., description=\"The count of vehicles produced\")\n",
    "    period_start: str = Field(..., description=\"The start of the time period in ISO format.\")\n",
    "    period_duration: int = Field(..., description=\"Duration of period, in months\")\n",
    "    annualized: bool = Field(..., description=\"Whether or not figure is an annualized estimate.\")\n",
    "\n",
    "class Root(BaseModel):\n",
    "    records: List[VehicleProduction] = Field(None, description=\"List of VehicleProduction records\")"
   ]
  },
  {
   "cell_type": "markdown",
   "id": "8e5ed96e-8990-42d7-afcc-863a8d4483cf",
   "metadata": {},
   "source": [
    "Creating the `Root` class allows us to capture multiple records, when present. Let's try it:"
   ]
  },
  {
   "cell_type": "code",
   "execution_count": 8,
   "id": "86ee9df2-e0aa-4378-9c79-eae0e6e717a7",
   "metadata": {
    "tags": []
   },
   "outputs": [],
   "source": [
    "response = runnable.invoke({\"text\": doc.page_content, \"schema\": Root.schema()})"
   ]
  },
  {
   "cell_type": "code",
   "execution_count": 9,
   "id": "93f29e0c-b18d-4983-8345-c0832127b1a3",
   "metadata": {
    "tags": []
   },
   "outputs": [
    {
     "data": {
      "text/plain": [
       "{'extracted': {'records': [{'count': 1800000,\n",
       "    'period_start': '2023-01-01',\n",
       "    'period_duration': 12,\n",
       "    'annualized': True},\n",
       "   {'count': 560000,\n",
       "    'period_start': '2023-01-01',\n",
       "    'period_duration': 12,\n",
       "    'annualized': False}]}}"
      ]
     },
     "execution_count": 9,
     "metadata": {},
     "output_type": "execute_result"
    }
   ],
   "source": [
    "response"
   ]
  },
  {
   "cell_type": "markdown",
   "id": "d508a050-fd02-4ee1-bf55-d98c82a4a3ec",
   "metadata": {},
   "source": [
    "Note that we pass both the natural-language text as well as the desired output schema to the runnable. In this case we successfully captured the 1.8 million figure, and for many cases this might be sufficient. But the transcript also notes an annualized run rate of almost 2 million vehicles per year in Q4. Suppose we want to extract this figure as well-- how can we convey our intent to the extraction service?\n",
    "\n",
    "One option is few-shot examples. Here we define an example of such a similar record and pass it to the runnable in another inference:"
   ]
  },
  {
   "cell_type": "code",
   "execution_count": 10,
   "id": "c463e72a-b4d1-4b7d-a46c-1b52ecb08418",
   "metadata": {
    "tags": []
   },
   "outputs": [],
   "source": [
    "examples = [\n",
    "    {\n",
    "        \"text\": (\n",
    "            \"2022 is off to a good start. In Q1, we produced \"\n",
    "            \"vehicles at an annualized rate of 1 million.\"\n",
    "        ),\n",
    "        \"output\": Root(\n",
    "            records=[\n",
    "                VehicleProduction(\n",
    "                    count=1_000_000,\n",
    "                    period_start=\"2022-01-01\",\n",
    "                    period_duration=3,\n",
    "                    annualized=True,\n",
    "                )\n",
    "            ]\n",
    "        ).dict()\n",
    "    }\n",
    "]\n",
    "\n",
    "response = runnable.invoke(\n",
    "    {\n",
    "        \"text\": doc.page_content,\n",
    "        \"schema\": Root.schema(),\n",
    "        \"examples\": examples,\n",
    "    },\n",
    ")"
   ]
  },
  {
   "cell_type": "code",
   "execution_count": 11,
   "id": "b4528a1d-1008-441b-91f0-25553c6f64c6",
   "metadata": {
    "tags": []
   },
   "outputs": [
    {
     "data": {
      "text/plain": [
       "{'extracted': {'records': [{'count': 1800000,\n",
       "    'period_start': '2023-01-01',\n",
       "    'period_duration': 12,\n",
       "    'annualized': True},\n",
       "   {'count': 2000000,\n",
       "    'period_start': '2023-10-01',\n",
       "    'period_duration': 3,\n",
       "    'annualized': True}]}}"
      ]
     },
     "execution_count": 11,
     "metadata": {},
     "output_type": "execute_result"
    }
   ],
   "source": [
    "response"
   ]
  },
  {
   "cell_type": "markdown",
   "id": "33e17114-4296-45d1-b937-ca218beb62b5",
   "metadata": {},
   "source": [
    "We see that with this added context, the service was able to understand our intent and extract the additional record."
   ]
  },
  {
   "cell_type": "markdown",
   "id": "6f73453e-1266-4962-aa1d-99a6ad24a59b",
   "metadata": {},
   "source": [
    "Let's consider another example. Earnings calls often include aggregate financial results for a reporting period. Below, Tesla's CFO discusses its revenue, free cash flow, and other figures:"
   ]
  },
  {
   "cell_type": "code",
   "execution_count": 12,
   "id": "1f3f6177-ca50-4c24-a89b-4e6de28313b3",
   "metadata": {
    "tags": []
   },
   "outputs": [
    {
     "data": {
      "text/plain": [
       "Document(page_content='Martin Viecha\\n\\nThank you. And our CFO, Vaibhav, has some opening remarks as well.\\n\\nVaibhav Taneja -- Chief Financial Officer\\n\\nThanks, Martin. Good afternoon, everyone. As Elon mentioned, we had a record year in terms of both production and deliveries for auto business, as well as record deployments in our energy business. This was achieved despite 2023 being a challenging year in terms of higher interest rates and higher inflation.\\n\\nBig thanks to our customer for being with us through this challenging period. I would also like to thank the whole Tesla team for the resolve and dedication throughout. In terms of 2023 financials, we ended the year with over 96 billion of revenue and generated 4.4 billion of free cash flow to end the year with over 29 billion of cash and investments on hand. Our 2023 GAAP net income was impacted by the recognition of one-time, noncash benefit of 5.9 billion from the release of valuation allowance on certain deferred tax assets.')"
      ]
     },
     "execution_count": 12,
     "metadata": {},
     "output_type": "execute_result"
    }
   ],
   "source": [
    "doc = docs[9]\n",
    "doc"
   ]
  },
  {
   "cell_type": "markdown",
   "id": "9f2fa025-0404-477a-a1c7-22a8a8fd4b17",
   "metadata": {},
   "source": [
    "Suppose we are looking specifically for earnings. What happens if we run such an extractor on this text?"
   ]
  },
  {
   "cell_type": "code",
   "execution_count": 13,
   "id": "780b7639-d798-4c51-be0c-0d5a85764806",
   "metadata": {
    "tags": []
   },
   "outputs": [],
   "source": [
    "class Earnings(BaseModel):\n",
    "    value: int = Field(..., description=\"Nominal earnings in local currency.\")\n",
    "    period_start: str = Field(..., description=\"The start of the time period in ISO format.\")\n",
    "    period_duration: int = Field(..., description=\"Duration of period, in months\")\n",
    "\n",
    "class Root(BaseModel):\n",
    "    records: List[Earnings] = Field(None, description=\"List of Earnings records\")"
   ]
  },
  {
   "cell_type": "code",
   "execution_count": 14,
   "id": "d4a01405-b3dd-403d-86de-9031b0b20875",
   "metadata": {
    "tags": []
   },
   "outputs": [],
   "source": [
    "response = runnable.invoke({\"text\": doc.page_content, \"schema\": Root.schema()})"
   ]
  },
  {
   "cell_type": "code",
   "execution_count": 15,
   "id": "54f666dc-478f-42e7-a89f-0d5410e3d0b6",
   "metadata": {
    "tags": []
   },
   "outputs": [
    {
     "data": {
      "text/plain": [
       "{'extracted': {'records': [{'value': 5900000000,\n",
       "    'period_start': '2023-01-01',\n",
       "    'period_duration': 12}]}}"
      ]
     },
     "execution_count": 15,
     "metadata": {},
     "output_type": "execute_result"
    }
   ],
   "source": [
    "response"
   ]
  },
  {
   "cell_type": "markdown",
   "id": "e66e8e3d-08e9-4336-b3f7-7c65e55c917f",
   "metadata": {},
   "source": [
    "We see that the service extracted three records, even though none of them are earnings! Without the specific context of our use-case, the model is overly enthusiastic about associating figures such as revenue and cash flow with earnings. We can improve its behavior by offering it examples and additional instructions:"
   ]
  },
  {
   "cell_type": "code",
   "execution_count": 16,
   "id": "e932d0a2-7ab8-4b09-aa05-1f63422c589d",
   "metadata": {
    "tags": []
   },
   "outputs": [],
   "source": [
    "examples = [\n",
    "    {\n",
    "        \"text\": \"Our revenue is $100 in 2022.\",\n",
    "        \"output\": Root(records=[]).dict()\n",
    "    },\n",
    "    {\n",
    "        \"text\": \"We generated one billion in free cash flow in 2022.\",\n",
    "        \"output\": Root(records=[]).dict()\n",
    "    },\n",
    "    {\n",
    "        \"text\": \"Our 2022 income was $32.\",\n",
    "        \"output\": Root(records=[]).dict()\n",
    "    },\n",
    "    {\n",
    "        \"text\": \"Our earnings in 2022 were $100 million.\",\n",
    "        \"output\": Root(\n",
    "            records=[\n",
    "                Earnings(value=100_000_000, period_start=\"2022-01-01\", period_duration=12)\n",
    "            ]\n",
    "        ).dict()\n",
    "    },\n",
    "    {\n",
    "        \"text\": \"We had $6 of profit in 2022.\",\n",
    "        \"output\": Root(\n",
    "            records=[\n",
    "                Earnings(value=6, period_start=\"2022-01-01\", period_duration=12)\n",
    "            ]\n",
    "        ).dict()\n",
    "    },\n",
    "]\n",
    "\n",
    "response = runnable.invoke(\n",
    "    {\n",
    "        \"text\": doc.page_content,\n",
    "        \"schema\": Root.schema(),\n",
    "        \"instructions\": (\n",
    "            \"Note that earnings has a very specific meaning \"\n",
    "            \"in a financial context as profit. Revenue, income, \"\n",
    "            \"cash flow, are not earnings. Adjustments to earnings \"\n",
    "            \"are also not earnings.\"\n",
    "        ),\n",
    "        \"examples\": examples,\n",
    "    },\n",
    ")"
   ]
  },
  {
   "cell_type": "code",
   "execution_count": 17,
   "id": "0f3481b1-2be3-45cc-a532-9837558bcea4",
   "metadata": {
    "tags": []
   },
   "outputs": [
    {
     "data": {
      "text/plain": [
       "{'extracted': {'records': []}}"
      ]
     },
     "execution_count": 17,
     "metadata": {},
     "output_type": "execute_result"
    }
   ],
   "source": [
    "response"
   ]
  },
  {
   "cell_type": "markdown",
   "id": "a92c4e06-aa0b-4b13-88df-36a955f8b28c",
   "metadata": {},
   "source": [
    "In this case we correctly extracted no records.\n",
    "\n",
    "If we are interested in financial data more broadly, we can let the extractor identify the corresponding figure (such as revenue, or FCF):"
   ]
  },
  {
   "cell_type": "code",
   "execution_count": 18,
   "id": "b94c4316-65b5-43ff-a50e-7c1830ac05c0",
   "metadata": {
    "tags": []
   },
   "outputs": [],
   "source": [
    "class FinancialData(BaseModel):\n",
    "    name: str = Field(..., description=\"Name of the financial figure, such as revenue.\")\n",
    "    value: int = Field(..., description=\"Nominal earnings in local currency.\")\n",
    "    period_start: str = Field(..., description=\"The start of the time period in ISO format.\")\n",
    "    period_duration: int = Field(..., description=\"Duration of period, in months\")\n",
    "\n",
    "class Root(BaseModel):\n",
    "    records: List[FinancialData] = Field(None, description=\"List of Earnings records\")"
   ]
  },
  {
   "cell_type": "code",
   "execution_count": 19,
   "id": "b2d82d18-f51a-4599-b65a-0721dde78311",
   "metadata": {
    "tags": []
   },
   "outputs": [],
   "source": [
    "response = runnable.invoke({\"text\": doc.page_content, \"schema\": Root.schema()})"
   ]
  },
  {
   "cell_type": "code",
   "execution_count": 20,
   "id": "aa9ac345-f64f-491e-9d3a-141f480740d9",
   "metadata": {
    "tags": []
   },
   "outputs": [
    {
     "data": {
      "text/plain": [
       "{'extracted': {'records': [{'name': 'revenue',\n",
       "    'value': 96000000000,\n",
       "    'period_start': '2023-01-01',\n",
       "    'period_duration': 12},\n",
       "   {'name': 'free cash flow',\n",
       "    'value': 4400000000,\n",
       "    'period_start': '2023-01-01',\n",
       "    'period_duration': 12},\n",
       "   {'name': 'cash and investments',\n",
       "    'value': 29000000000,\n",
       "    'period_start': '2023-01-01',\n",
       "    'period_duration': 12},\n",
       "   {'name': 'GAAP net income',\n",
       "    'value': 5900000000,\n",
       "    'period_start': '2023-01-01',\n",
       "    'period_duration': 12}]}}"
      ]
     },
     "execution_count": 20,
     "metadata": {},
     "output_type": "execute_result"
    }
   ],
   "source": [
    "response"
   ]
  },
  {
   "cell_type": "markdown",
   "id": "67f753ae-330d-4ee2-bf61-4d412555eb5f",
   "metadata": {},
   "source": [
    "Different entities may refer to the same financial figure using different vocabulary, so in this case it may be helpful to advise the service to standardize names, where possible:"
   ]
  },
  {
   "cell_type": "code",
   "execution_count": 21,
   "id": "773aa48e-c447-47fc-8934-19e84f08f401",
   "metadata": {
    "tags": []
   },
   "outputs": [],
   "source": [
    "examples = [\n",
    "    {\n",
    "        \"text\": \"Our revenue is $100 in 2022.\",\n",
    "        \"output\": Root(\n",
    "            records=[\n",
    "                FinancialData(\n",
    "                    name=\"rev\",\n",
    "                    value=100,\n",
    "                    period_start=\"2022-01-01\",\n",
    "                    period_duration=12,\n",
    "                )\n",
    "            ]\n",
    "        ).dict()\n",
    "    },\n",
    "    {\n",
    "        \"text\": \"We generated one billion in free cash flow in 2022.\",\n",
    "        \"output\": Root(\n",
    "            records=[\n",
    "                FinancialData(\n",
    "                    name=\"fcf\",\n",
    "                    value=1_000_000_000,\n",
    "                    period_start=\"2022-01-01\",\n",
    "                    period_duration=12,\n",
    "                )\n",
    "            ]\n",
    "        ).dict()\n",
    "    },\n",
    "    {\n",
    "        \"text\": \"Our 2022 Q1 revenue was $32 and we paid $3 in taxes.\",\n",
    "        \"output\": Root(\n",
    "            records=[\n",
    "                FinancialData(\n",
    "                    name=\"rev\",\n",
    "                    value=32,\n",
    "                    period_start=\"2022-01-01\",\n",
    "                    period_duration=3,\n",
    "                ),\n",
    "                FinancialData(\n",
    "                    name=\"taxes\",\n",
    "                    value=3,\n",
    "                    period_start=\"2022-01-01\",\n",
    "                    period_duration=3,\n",
    "                ),\n",
    "            ]\n",
    "        ).dict()\n",
    "    },\n",
    "]\n",
    "\n",
    "\n",
    "instructions = \"\"\"\n",
    "Standardize names according to the following mapping. If you detect\n",
    "a financial figure that is not in the mapping, report it verbatim.\n",
    "\n",
    "\"revenue\", \"rev\", etc. --> \"rev\"\n",
    "\"free cash flow\", \"fcf\", etc. --> \"fcf\"\n",
    "\"financial assets\", \"investments\", etc. --> \"abc123\"\n",
    "\"\"\""
   ]
  },
  {
   "cell_type": "code",
   "execution_count": 22,
   "id": "dbfa152e-95d6-40aa-a665-f64b9ae51e98",
   "metadata": {
    "tags": []
   },
   "outputs": [],
   "source": [
    "response = runnable.invoke(\n",
    "    {\n",
    "        \"text\": doc.page_content,\n",
    "        \"schema\": Root.schema(),\n",
    "        \"instructions\": instructions,\n",
    "        \"examples\": examples,\n",
    "    },\n",
    ")"
   ]
  },
  {
   "cell_type": "code",
   "execution_count": 23,
   "id": "43bf569b-eeb1-46a9-b575-fd03b850f3ac",
   "metadata": {
    "tags": []
   },
   "outputs": [
    {
     "data": {
      "text/plain": [
       "{'extracted': {'records': [{'name': 'rev',\n",
       "    'value': 96000000000,\n",
       "    'period_start': '2023-01-01',\n",
       "    'period_duration': 12},\n",
       "   {'name': 'fcf',\n",
       "    'value': 4400000000,\n",
       "    'period_start': '2023-01-01',\n",
       "    'period_duration': 12},\n",
       "   {'name': 'abc123',\n",
       "    'value': 29000000000,\n",
       "    'period_start': '2023-01-01',\n",
       "    'period_duration': 12}]}}"
      ]
     },
     "execution_count": 23,
     "metadata": {},
     "output_type": "execute_result"
    }
   ],
   "source": [
    "response"
   ]
  },
  {
   "cell_type": "markdown",
   "id": "6302e990-1093-4016-8cd1-264c15f27198",
   "metadata": {},
   "source": [
    "Note that we can assign arbitrary identifiers in this case."
   ]
  },
  {
   "cell_type": "markdown",
   "id": "549bb7a9-4e8f-4223-bd67-612209bbd7e7",
   "metadata": {},
   "source": [
    "Is this cheating, because we are post-hoc constructing examples to correct undesired behavior? Yes. However, beyond a proof-of-concept and combined with feedback systems to gather incorrect extraction results and assemble them intelligently into batches of few-shot examples, we anticipate that this capability will allow LLM-based extraction systems to perform well in real-world tasks."
   ]
  }
 ],
 "metadata": {
  "kernelspec": {
   "display_name": "Python 3 (ipykernel)",
   "language": "python",
   "name": "python3"
  },
  "language_info": {
   "codemirror_mode": {
    "name": "ipython",
    "version": 3
   },
   "file_extension": ".py",
   "mimetype": "text/x-python",
   "name": "python",
   "nbconvert_exporter": "python",
   "pygments_lexer": "ipython3",
   "version": "3.11.2"
  }
 },
 "nbformat": 4,
 "nbformat_minor": 5
}
