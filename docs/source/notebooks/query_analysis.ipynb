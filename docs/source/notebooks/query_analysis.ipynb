{
 "cells": [
  {
   "cell_type": "markdown",
   "id": "7e43ed67-9fbb-4d6c-9a5d-8c4addeb2ed5",
   "metadata": {},
   "source": [
    "# Query analysis"
   ]
  },
  {
   "cell_type": "code",
   "execution_count": 1,
   "id": "b123c960-a0b4-4d5e-b15f-729de23974f5",
   "metadata": {
    "tags": []
   },
   "outputs": [],
   "source": [
    "from langserve import RemoteRunnable"
   ]
  },
  {
   "cell_type": "code",
   "execution_count": 2,
   "id": "19dafdeb-63c5-4218-b0f9-fc20754369be",
   "metadata": {
    "tags": []
   },
   "outputs": [],
   "source": [
    "from typing import Optional\n",
    "\n",
    "from langchain_core.pydantic_v1 import BaseModel, Field\n",
    "\n",
    "\n",
    "class YouTubeSearch(BaseModel):\n",
    "    \"\"\"Search over a database of tutorial videos about a software library.\"\"\"\n",
    "\n",
    "    youtube_query: str = Field(\n",
    "        ...,\n",
    "        description=\"Similarity search query applied to video transcripts.\",\n",
    "    )\n",
    "    publish_year: Optional[int] = Field(\n",
    "        None, description=\"Year video was published\"\n",
    "    )\n",
    "        \n",
    "class APISearch(BaseModel):\n",
    "    \"\"\"Search over an API reference for software library.\"\"\"\n",
    "\n",
    "    api_query: str = Field(\n",
    "        ...,\n",
    "        description=\"Similarity search query applied to reference documentation.\",\n",
    "    )"
   ]
  },
  {
   "cell_type": "code",
   "execution_count": 3,
   "id": "bf79ef88-b816-46aa-addf-9366b7ebdcaf",
   "metadata": {
    "tags": []
   },
   "outputs": [],
   "source": [
    "runnable = RemoteRunnable(\"http://localhost:8000/query_analysis/\")"
   ]
  },
  {
   "cell_type": "code",
   "execution_count": 4,
   "id": "553d7dbc-9117-4834-83b1-11e28a513170",
   "metadata": {
    "tags": []
   },
   "outputs": [
    {
     "data": {
      "text/plain": [
       "{'data': [{'youtube_query': 'RAG agent tutorial', 'publish_year': 2023}]}"
      ]
     },
     "execution_count": 4,
     "metadata": {},
     "output_type": "execute_result"
    }
   ],
   "source": [
    "from langchain_core.messages import HumanMessage\n",
    "\n",
    "messages = [HumanMessage(\"RAG agent tutorial from 2023\")]\n",
    "response = runnable.invoke(\n",
    "    {\"messages\": messages, \"schema\": [YouTubeSearch.schema(), APISearch.schema()]}\n",
    ")\n",
    "response"
   ]
  },
  {
   "cell_type": "code",
   "execution_count": 5,
   "id": "62ee5772",
   "metadata": {},
   "outputs": [
    {
     "data": {
      "text/plain": [
       "{'data': [{'api_query': 'arguments RunnablePassthrough.assign'}]}"
      ]
     },
     "execution_count": 5,
     "metadata": {},
     "output_type": "execute_result"
    }
   ],
   "source": [
    "messages = [HumanMessage(\"what arguments does RunnablePassthrough.assign accept\")]\n",
    "response = runnable.invoke(\n",
    "    {\"messages\": messages, \"schema\": [YouTubeSearch.schema(), APISearch.schema()]}\n",
    ")\n",
    "response"
   ]
  },
  {
   "cell_type": "markdown",
   "id": "c70d8d7c-5f0b-4757-92b7-cdd40f351275",
   "metadata": {},
   "source": [
    "Add instructions:"
   ]
  },
  {
   "cell_type": "code",
   "execution_count": 6,
   "id": "97294409-6daf-418d-9cbe-f44946245e35",
   "metadata": {
    "tags": []
   },
   "outputs": [
    {
     "data": {
      "text/plain": [
       "{'data': [{'youtube_query': 'RAG agent tutorial', 'publish_year': 2023}]}"
      ]
     },
     "execution_count": 6,
     "metadata": {},
     "output_type": "execute_result"
    }
   ],
   "source": [
    "instructions = (\n",
    "    \"Always expand acronym RAG to Retrieval Augmented Generation. \"\n",
    "    \"NEVER INCLUDE RAG IN THE SEARCH\"\n",
    ")\n",
    "\n",
    "messages = [HumanMessage(\"RAG agent tutorial from 2023\")]\n",
    "response = runnable.invoke(\n",
    "    {\n",
    "        \"messages\": messages,\n",
    "        \"schema\": YouTubeSearch.schema(),\n",
    "        \"instructions\": instructions,\n",
    "    }\n",
    ")\n",
    "response"
   ]
  },
  {
   "cell_type": "markdown",
   "id": "24b4a123-7841-465b-b43b-1db439c45fa7",
   "metadata": {},
   "source": [
    "Add few-shot examples:"
   ]
  },
  {
   "cell_type": "code",
   "execution_count": 7,
   "id": "bae9416d-abd4-4b41-90c2-3144c8566483",
   "metadata": {
    "tags": []
   },
   "outputs": [
    {
     "data": {
      "text/plain": [
       "{'data': [{'youtube_query': 'RAG agent tutorial', 'publish_year': 2023}]}"
      ]
     },
     "execution_count": 7,
     "metadata": {},
     "output_type": "execute_result"
    }
   ],
   "source": [
    "examples = [\n",
    "    {\n",
    "        \"messages\": [HumanMessage(\"RAG from scratch series\")],\n",
    "        \"output\": [ \n",
    "            {\"youtube_query\": \"Retrieval Augmented Generation from scratch\"} \n",
    "        ],\n",
    "    }\n",
    "]\n",
    "\n",
    "response = runnable.invoke(\n",
    "    {\n",
    "        \"messages\": messages,\n",
    "        \"schema\": YouTubeSearch.schema(),\n",
    "        \"instructions\": instructions,\n",
    "        \"examples\": examples,\n",
    "    }\n",
    ")\n",
    "response"
   ]
  },
  {
   "cell_type": "markdown",
   "id": "24e69e35",
   "metadata": {},
   "source": [
    "## Persist analyzers"
   ]
  },
  {
   "cell_type": "code",
   "execution_count": 8,
   "id": "9c946a7d",
   "metadata": {},
   "outputs": [],
   "source": [
    "import requests\n",
    "\n",
    "url = \"http://localhost:8000\""
   ]
  },
  {
   "cell_type": "code",
   "execution_count": 9,
   "id": "bcce2294",
   "metadata": {},
   "outputs": [
    {
     "data": {
      "text/plain": [
       "<Response [200]>"
      ]
     },
     "execution_count": 9,
     "metadata": {},
     "output_type": "execute_result"
    }
   ],
   "source": [
    "data = {\n",
    "    \"description\": \"Choose between youtube and api reference queries\",\n",
    "    \"schema\": [YouTubeSearch.schema(), APISearch.schema()],\n",
    "    \"instructions\": instructions,\n",
    "}\n",
    "\n",
    "response = requests.post(f\"{url}/query_analyzers\", json=data)\n",
    "response"
   ]
  },
  {
   "cell_type": "code",
   "execution_count": 10,
   "id": "89cc72cd",
   "metadata": {},
   "outputs": [],
   "source": [
    "qa_id = response.json()[\"uuid\"]"
   ]
  },
  {
   "cell_type": "markdown",
   "id": "457d0017",
   "metadata": {},
   "source": [
    "### Add examples"
   ]
  },
  {
   "cell_type": "code",
   "execution_count": 11,
   "id": "4069ec83",
   "metadata": {},
   "outputs": [
    {
     "name": "stderr",
     "output_type": "stream",
     "text": [
      "/Users/bagatur/Library/Caches/pypoetry/virtualenvs/langchain-extract-vE0CCWUl-py3.11/lib/python3.11/site-packages/langchain_core/_api/beta_decorator.py:86: LangChainBetaWarning: The function `load` is in beta. It is actively being worked on, so the API may change.\n",
      "  warn_beta(\n"
     ]
    },
    {
     "data": {
      "text/plain": [
       "[HumanMessage(content='RAG agent tutorial from 2023')]"
      ]
     },
     "execution_count": 11,
     "metadata": {},
     "output_type": "execute_result"
    }
   ],
   "source": [
    "from langchain_core.load import dumpd, load\n",
    "load(dumpd(messages))"
   ]
  },
  {
   "cell_type": "code",
   "execution_count": 24,
   "id": "2181ff48",
   "metadata": {},
   "outputs": [],
   "source": [
    "import json\n",
    "\n",
    "\n",
    "responses = []\n",
    "for example in examples:\n",
    "    create_request = {\n",
    "        \"query_analyzer_id\": qa_id,\n",
    "        \"content\": dumpd(example[\"messages\"]),\n",
    "        \"output\": example['output'],\n",
    "    }\n",
    "    response = requests.post(f\"{url}/qa_examples\", json=create_request)\n",
    "    responses.append(response)"
   ]
  },
  {
   "cell_type": "code",
   "execution_count": 25,
   "id": "9c2a2e9a",
   "metadata": {},
   "outputs": [
    {
     "data": {
      "text/plain": [
       "'{\"uuid\":\"9175e86e-f2bb-446b-92ea-262eab1a7aca\"}'"
      ]
     },
     "execution_count": 25,
     "metadata": {},
     "output_type": "execute_result"
    }
   ],
   "source": [
    "responses[0].text"
   ]
  },
  {
   "cell_type": "code",
   "execution_count": 26,
   "id": "dc7d14de",
   "metadata": {},
   "outputs": [
    {
     "data": {
      "text/plain": [
       "<Response [200]>"
      ]
     },
     "execution_count": 26,
     "metadata": {},
     "output_type": "execute_result"
    }
   ],
   "source": [
    "response = requests.get(f\"{url}/qa_examples?query_analyzer_id={qa_id}\")\n",
    "response"
   ]
  },
  {
   "cell_type": "code",
   "execution_count": 27,
   "id": "0e957325",
   "metadata": {},
   "outputs": [
    {
     "data": {
      "text/plain": [
       "[{'created_at': '2024-03-05T02:01:07.802814',\n",
       "  'updated_at': '2024-03-05T02:01:07.802819',\n",
       "  'output': [{'youtube_query': 'Retrieval Augmented Generation from scratch'}],\n",
       "  'query_analyzer_id': 'e183fe3c-3e12-4ee6-bd7d-a761709fbad2',\n",
       "  'content': [{'id': ['langchain', 'schema', 'messages', 'HumanMessage'],\n",
       "    'lc': 1,\n",
       "    'type': 'constructor',\n",
       "    'kwargs': {'content': 'RAG from scratch series'}}],\n",
       "  'uuid': '9175e86e-f2bb-446b-92ea-262eab1a7aca'}]"
      ]
     },
     "execution_count": 27,
     "metadata": {},
     "output_type": "execute_result"
    }
   ],
   "source": [
    "response.json()"
   ]
  },
  {
   "cell_type": "markdown",
   "id": "a34a83f3",
   "metadata": {},
   "source": [
    "### Analyze using persisted analyzer"
   ]
  },
  {
   "cell_type": "code",
   "execution_count": 91,
   "id": "1a091423",
   "metadata": {},
   "outputs": [
    {
     "name": "stdout",
     "output_type": "stream",
     "text": [
      "{'query_analyzer_id': 'e183fe3c-3e12-4ee6-bd7d-a761709fbad2', 'messages': [{'lc': 1, 'type': 'constructor', 'id': ['langchain', 'schema', 'messages', 'HumanMessage'], 'kwargs': {'content': 'RAG agent tutorial from 2023'}}]}\n"
     ]
    }
   ],
   "source": [
    "request_data = {\"query_analyzer_id\": qa_id, \"messages\": dumpd(messages)}\n",
    "print(request_data)"
   ]
  },
  {
   "cell_type": "code",
   "execution_count": 92,
   "id": "12b81164",
   "metadata": {},
   "outputs": [
    {
     "data": {
      "text/plain": [
       "<Response [200]>"
      ]
     },
     "execution_count": 92,
     "metadata": {},
     "output_type": "execute_result"
    }
   ],
   "source": [
    "response = requests.post(f\"{url}/analyze\", json=request_data)\n",
    "response"
   ]
  },
  {
   "cell_type": "code",
   "execution_count": 93,
   "id": "f4f99a43",
   "metadata": {},
   "outputs": [
    {
     "data": {
      "text/plain": [
       "'{\"data\":[{\"publish_year\":2023,\"youtube_query\":\"RAG agent tutorial\"}]}'"
      ]
     },
     "execution_count": 93,
     "metadata": {},
     "output_type": "execute_result"
    }
   ],
   "source": [
    "response.text"
   ]
  },
  {
   "cell_type": "code",
   "execution_count": null,
   "id": "f653ef3f",
   "metadata": {},
   "outputs": [],
   "source": []
  }
 ],
 "metadata": {
  "kernelspec": {
   "display_name": "extract-venv",
   "language": "python",
   "name": "extract-venv"
  },
  "language_info": {
   "codemirror_mode": {
    "name": "ipython",
    "version": 3
   },
   "file_extension": ".py",
   "mimetype": "text/x-python",
   "name": "python",
   "nbconvert_exporter": "python",
   "pygments_lexer": "ipython3",
   "version": "3.11.4"
  }
 },
 "nbformat": 4,
 "nbformat_minor": 5
}
