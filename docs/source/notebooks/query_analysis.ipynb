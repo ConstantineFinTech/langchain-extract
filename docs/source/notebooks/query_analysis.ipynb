{
 "cells": [
  {
   "cell_type": "markdown",
   "id": "7e43ed67-9fbb-4d6c-9a5d-8c4addeb2ed5",
   "metadata": {},
   "source": [
    "# Query analysis"
   ]
  },
  {
   "cell_type": "code",
   "execution_count": 1,
   "id": "b123c960-a0b4-4d5e-b15f-729de23974f5",
   "metadata": {
    "tags": []
   },
   "outputs": [],
   "source": [
    "from langserve import RemoteRunnable"
   ]
  },
  {
   "cell_type": "code",
   "execution_count": 2,
   "id": "19dafdeb-63c5-4218-b0f9-fc20754369be",
   "metadata": {
    "tags": []
   },
   "outputs": [],
   "source": [
    "from typing import Optional\n",
    "\n",
    "from langchain_core.pydantic_v1 import BaseModel, Field\n",
    "\n",
    "\n",
    "class YouTubeSearch(BaseModel):\n",
    "    \"\"\"Search over a database of tutorial videos about a software library.\"\"\"\n",
    "\n",
    "    youtube_query: str = Field(\n",
    "        ...,\n",
    "        description=\"Similarity search query applied to video transcripts.\",\n",
    "    )\n",
    "    publish_year: Optional[int] = Field(\n",
    "        None, description=\"Year video was published\"\n",
    "    )\n",
    "        \n",
    "class APISearch(BaseModel):\n",
    "    \"\"\"Search over an API reference for software library.\"\"\"\n",
    "\n",
    "    api_query: str = Field(\n",
    "        ...,\n",
    "        description=\"Similarity search query applied to reference documentation.\",\n",
    "    )"
   ]
  },
  {
   "cell_type": "code",
   "execution_count": 3,
   "id": "bf79ef88-b816-46aa-addf-9366b7ebdcaf",
   "metadata": {
    "tags": []
   },
   "outputs": [],
   "source": [
    "runnable = RemoteRunnable(\"http://localhost:8000/query_analysis/\")"
   ]
  },
  {
   "cell_type": "code",
   "execution_count": 4,
   "id": "553d7dbc-9117-4834-83b1-11e28a513170",
   "metadata": {
    "tags": []
   },
   "outputs": [
    {
     "data": {
      "text/plain": [
       "{'data': [{'youtube_query': 'RAG agent tutorial', 'publish_year': 2023}]}"
      ]
     },
     "execution_count": 4,
     "metadata": {},
     "output_type": "execute_result"
    }
   ],
   "source": [
    "from langchain_core.messages import HumanMessage\n",
    "\n",
    "messages = [HumanMessage(\"RAG agent tutorial from 2023\")]\n",
    "response = runnable.invoke(\n",
    "    {\"messages\": messages, \"schema\": [YouTubeSearch.schema(), APISearch.schema()]}\n",
    ")\n",
    "response"
   ]
  },
  {
   "cell_type": "code",
   "execution_count": 5,
   "id": "62ee5772",
   "metadata": {},
   "outputs": [
    {
     "data": {
      "text/plain": [
       "{'data': [{'api_query': 'arguments RunnablePassthrough.assign'}]}"
      ]
     },
     "execution_count": 5,
     "metadata": {},
     "output_type": "execute_result"
    }
   ],
   "source": [
    "messages = [HumanMessage(\"what arguments does RunnablePassthrough.assign accept\")]\n",
    "response = runnable.invoke(\n",
    "    {\"messages\": messages, \"schema\": [YouTubeSearch.schema(), APISearch.schema()]}\n",
    ")\n",
    "response"
   ]
  },
  {
   "cell_type": "markdown",
   "id": "c70d8d7c-5f0b-4757-92b7-cdd40f351275",
   "metadata": {},
   "source": [
    "Add instructions:"
   ]
  },
  {
   "cell_type": "code",
   "execution_count": 6,
   "id": "97294409-6daf-418d-9cbe-f44946245e35",
   "metadata": {
    "tags": []
   },
   "outputs": [
    {
     "data": {
      "text/plain": [
       "{'data': [{'youtube_query': 'RAG agent tutorial', 'publish_year': 2023}]}"
      ]
     },
     "execution_count": 6,
     "metadata": {},
     "output_type": "execute_result"
    }
   ],
   "source": [
    "instructions = (\n",
    "    \"Always expand acronym RAG to Retrieval Augmented Generation. \"\n",
    "    \"NEVER INCLUDE RAG IN THE SEARCH\"\n",
    ")\n",
    "\n",
    "messages = [HumanMessage(\"RAG agent tutorial from 2023\")]\n",
    "response = runnable.invoke(\n",
    "    {\n",
    "        \"messages\": messages,\n",
    "        \"schema\": YouTubeSearch.schema(),\n",
    "        \"instructions\": instructions,\n",
    "    }\n",
    ")\n",
    "response"
   ]
  },
  {
   "cell_type": "markdown",
   "id": "24b4a123-7841-465b-b43b-1db439c45fa7",
   "metadata": {},
   "source": [
    "Add few-shot examples:"
   ]
  },
  {
   "cell_type": "code",
   "execution_count": 7,
   "id": "bae9416d-abd4-4b41-90c2-3144c8566483",
   "metadata": {
    "tags": []
   },
   "outputs": [
    {
     "data": {
      "text/plain": [
       "{'data': [{'youtube_query': 'RAG agent tutorial', 'publish_year': 2023}]}"
      ]
     },
     "execution_count": 7,
     "metadata": {},
     "output_type": "execute_result"
    }
   ],
   "source": [
    "examples = [\n",
    "    {\n",
    "        \"messages\": [HumanMessage(\"RAG from scratch series\")],\n",
    "        \"output\": [ \n",
    "            {\"youtube_query\": \"Retrieval Augmented Generation from scratch\"} \n",
    "        ],\n",
    "    }\n",
    "]\n",
    "\n",
    "response = runnable.invoke(\n",
    "    {\n",
    "        \"messages\": messages,\n",
    "        \"schema\": YouTubeSearch.schema(),\n",
    "        \"instructions\": instructions,\n",
    "        \"examples\": examples,\n",
    "    }\n",
    ")\n",
    "response"
   ]
  },
  {
   "cell_type": "markdown",
   "id": "fb46ce1d",
   "metadata": {},
   "source": [
    "## Persist analyzers"
   ]
  },
  {
   "cell_type": "code",
   "execution_count": 8,
   "id": "2f63a8fc",
   "metadata": {},
   "outputs": [],
   "source": [
    "import requests\n",
    "\n",
    "url = \"http://localhost:8000\""
   ]
  },
  {
   "cell_type": "code",
   "execution_count": 9,
   "id": "5e23e4b9",
   "metadata": {},
   "outputs": [
    {
     "data": {
      "text/plain": [
       "<Response [200]>"
      ]
     },
     "execution_count": 9,
     "metadata": {},
     "output_type": "execute_result"
    }
   ],
   "source": [
    "data = {\n",
    "    \"description\": \"Choose between youtube and api reference queries\",\n",
    "    \"schema\": [YouTubeSearch.schema(), APISearch.schema()],\n",
    "    \"instructions\": instructions,\n",
    "}\n",
    "\n",
    "response = requests.post(f\"{url}/query_analyzers\", json=data)\n",
    "response"
   ]
  },
  {
   "cell_type": "code",
   "execution_count": 10,
   "id": "70e68bb1",
   "metadata": {},
   "outputs": [],
   "source": [
    "qa_id = response.json()[\"uuid\"]"
   ]
  },
  {
   "cell_type": "markdown",
   "id": "0927c9cc",
   "metadata": {},
   "source": [
    "### Add examples"
   ]
  },
  {
   "cell_type": "code",
   "execution_count": 11,
   "id": "e5611fac",
   "metadata": {},
   "outputs": [
    {
     "name": "stderr",
     "output_type": "stream",
     "text": [
      "/Users/bagatur/Library/Caches/pypoetry/virtualenvs/langchain-extract-vE0CCWUl-py3.11/lib/python3.11/site-packages/langchain_core/_api/beta_decorator.py:86: LangChainBetaWarning: The function `load` is in beta. It is actively being worked on, so the API may change.\n",
      "  warn_beta(\n"
     ]
    },
    {
     "data": {
      "text/plain": [
       "[HumanMessage(content='RAG agent tutorial from 2023')]"
      ]
     },
     "execution_count": 11,
     "metadata": {},
     "output_type": "execute_result"
    }
   ],
   "source": [
    "from langchain_core.load import dumpd, load\n",
    "load(dumpd(messages))"
   ]
  },
  {
   "cell_type": "code",
   "execution_count": 24,
   "id": "d430ad80",
   "metadata": {},
   "outputs": [],
   "source": [
    "import json\n",
    "\n",
    "\n",
    "responses = []\n",
    "for example in examples:\n",
    "    create_request = {\n",
    "        \"query_analyzer_id\": qa_id,\n",
    "        \"content\": dumpd(example[\"messages\"]),\n",
    "        \"output\": example['output'],\n",
    "    }\n",
    "    response = requests.post(f\"{url}/qa_examples\", json=create_request)\n",
    "    responses.append(response)"
   ]
  },
  {
   "cell_type": "code",
   "execution_count": 25,
   "id": "054bad2a",
   "metadata": {},
   "outputs": [
    {
     "data": {
      "text/plain": [
       "'{\"uuid\":\"9175e86e-f2bb-446b-92ea-262eab1a7aca\"}'"
      ]
     },
     "execution_count": 25,
     "metadata": {},
     "output_type": "execute_result"
    }
   ],
   "source": [
    "responses[0].text"
   ]
  },
  {
   "cell_type": "code",
   "execution_count": 26,
   "id": "26b03327",
   "metadata": {},
   "outputs": [
    {
     "data": {
      "text/plain": [
       "<Response [200]>"
      ]
     },
     "execution_count": 26,
     "metadata": {},
     "output_type": "execute_result"
    }
   ],
   "source": [
    "response = requests.get(f\"{url}/qa_examples?query_analyzer_id={qa_id}\")\n",
    "response"
   ]
  },
  {
   "cell_type": "code",
   "execution_count": 27,
   "id": "84fe5b0b",
   "metadata": {},
   "outputs": [
    {
     "data": {
      "text/plain": [
       "[{'created_at': '2024-03-05T02:01:07.802814',\n",
       "  'updated_at': '2024-03-05T02:01:07.802819',\n",
       "  'output': [{'youtube_query': 'Retrieval Augmented Generation from scratch'}],\n",
       "  'query_analyzer_id': 'e183fe3c-3e12-4ee6-bd7d-a761709fbad2',\n",
       "  'content': [{'id': ['langchain', 'schema', 'messages', 'HumanMessage'],\n",
       "    'lc': 1,\n",
       "    'type': 'constructor',\n",
       "    'kwargs': {'content': 'RAG from scratch series'}}],\n",
       "  'uuid': '9175e86e-f2bb-446b-92ea-262eab1a7aca'}]"
      ]
     },
     "execution_count": 27,
     "metadata": {},
     "output_type": "execute_result"
    }
   ],
   "source": [
    "response.json()"
   ]
  },
  {
   "cell_type": "markdown",
   "id": "5edb46be",
   "metadata": {},
   "source": [
    "### Analyze using persisted analyzer"
   ]
  },
  {
   "cell_type": "code",
   "execution_count": 91,
   "id": "c6674ed5",
   "metadata": {},
   "outputs": [
    {
     "name": "stdout",
     "output_type": "stream",
     "text": [
      "{'query_analyzer_id': 'e183fe3c-3e12-4ee6-bd7d-a761709fbad2', 'messages': [{'lc': 1, 'type': 'constructor', 'id': ['langchain', 'schema', 'messages', 'HumanMessage'], 'kwargs': {'content': 'RAG agent tutorial from 2023'}}]}\n"
     ]
    }
   ],
   "source": [
    "request_data = {\"query_analyzer_id\": qa_id, \"messages\": dumpd(messages)}\n",
    "print(request_data)"
   ]
  },
  {
   "cell_type": "code",
   "execution_count": 92,
   "id": "5583385a",
   "metadata": {},
   "outputs": [
    {
     "data": {
      "text/plain": [
       "<Response [200]>"
      ]
     },
     "execution_count": 92,
     "metadata": {},
     "output_type": "execute_result"
    }
   ],
   "source": [
    "response = requests.post(f\"{url}/analyze\", json=request_data)\n",
    "response"
   ]
  },
  {
   "cell_type": "code",
   "execution_count": 93,
   "id": "457dc910",
   "metadata": {},
   "outputs": [
    {
     "data": {
      "text/plain": [
       "'{\"data\":[{\"publish_year\":2023,\"youtube_query\":\"RAG agent tutorial\"}]}'"
      ]
     },
     "execution_count": 93,
     "metadata": {},
     "output_type": "execute_result"
    }
   ],
   "source": [
    "response.text"
   ]
  },
  {
   "cell_type": "markdown",
   "id": "ad8b65b1",
   "metadata": {},
   "source": [
    "## Techniques"
   ]
  },
  {
   "cell_type": "markdown",
   "id": "fe1a4537",
   "metadata": {},
   "source": [
    "### Decomposition"
   ]
  },
  {
   "cell_type": "code",
   "execution_count": 94,
   "id": "354c5202",
   "metadata": {},
   "outputs": [
    {
     "data": {
      "text/plain": [
       "{'data': [{'youtube_query': 'how to create RAG agent'},\n",
       "  {'youtube_query': 'how to deploy an agent with langserve'}]}"
      ]
     },
     "execution_count": 94,
     "metadata": {},
     "output_type": "execute_result"
    }
   ],
   "source": [
    "instructions = (\n",
    "    \"If the user question contains multiple parts break these down into distinct questions\"\n",
    ")\n",
    "\n",
    "messages = [HumanMessage(\"how to create RAG agent and how to deploy an agent with langserve\")]\n",
    "response = runnable.invoke(\n",
    "    {\n",
    "        \"messages\": messages,\n",
    "        \"schema\": YouTubeSearch.schema(),\n",
    "        \"instructions\": instructions,\n",
    "    }\n",
    ")\n",
    "response"
   ]
  },
  {
   "cell_type": "markdown",
   "id": "cfc765be",
   "metadata": {},
   "source": [
    "### Expansion"
   ]
  },
  {
   "cell_type": "code",
   "execution_count": 96,
   "id": "ea215e5e",
   "metadata": {},
   "outputs": [
    {
     "data": {
      "text/plain": [
       "{'data': [{'youtube_query': 'RAG langgraph agent tutorial'},\n",
       "  {'youtube_query': 'RAG langgraph agent development'},\n",
       "  {'youtube_query': 'RAG langgraph agent implementation'}]}"
      ]
     },
     "execution_count": 96,
     "metadata": {},
     "output_type": "execute_result"
    }
   ],
   "source": [
    "instructions = (\n",
    "    \"Write three paraphrased versions of the user question\"\n",
    ")\n",
    "\n",
    "messages = [HumanMessage(\"how would I build a RAG langgraph agent\")]\n",
    "response = runnable.invoke(\n",
    "    {\n",
    "        \"messages\": messages,\n",
    "        \"schema\": YouTubeSearch.schema(),\n",
    "        \"instructions\": instructions,\n",
    "    }\n",
    ")\n",
    "response"
   ]
  },
  {
   "cell_type": "markdown",
   "id": "658471a3",
   "metadata": {},
   "source": [
    "### HyDE"
   ]
  },
  {
   "cell_type": "code",
   "execution_count": 97,
   "id": "ac1a24eb",
   "metadata": {},
   "outputs": [
    {
     "data": {
      "text/plain": [
       "{'data': [{'answer': \"To build a RAG (Retrieval-Augmented Generation) language model, you would need to train a model that combines a retrieval system with a generative system. This involves pre-training a language model on a large corpus of text data and then fine-tuning it on a specific task or dataset. You can use tools like Hugging Face Transformers or OpenAI's GPT models for this purpose. Additionally, you can optimize the model's performance by using techniques like knowledge distillation, data augmentation, and hyperparameter tuning.\"}]}"
      ]
     },
     "execution_count": 97,
     "metadata": {},
     "output_type": "execute_result"
    }
   ],
   "source": [
    "instructions = (\n",
    "    \"Wite a plausible answer to the user question in the style of a YouTube Tutorial\"\n",
    ")\n",
    "\n",
    "class Answer(BaseModel):\n",
    "    \"\"\"Answer the user question.\"\"\"\n",
    "\n",
    "    answer: str = Field(\n",
    "        ...,\n",
    "        description=\"A plausible answer to the user question\",\n",
    "    )\n",
    "\n",
    "\n",
    "messages = [HumanMessage(\"how would I build a RAG langgraph agent\")]\n",
    "response = runnable.invoke(\n",
    "    {\n",
    "        \"messages\": messages,\n",
    "        \"schema\": Answer.schema(),\n",
    "        \"instructions\": instructions,\n",
    "    }\n",
    ")\n",
    "response"
   ]
  },
  {
   "cell_type": "markdown",
   "id": "c9de5035",
   "metadata": {},
   "source": [
    "### Routing"
   ]
  },
  {
   "cell_type": "code",
   "execution_count": 101,
   "id": "e50c828b",
   "metadata": {},
   "outputs": [
    {
     "data": {
      "text/plain": [
       "{'data': [{'youtube_query': 'RAG agent tutorial'}]}"
      ]
     },
     "execution_count": 101,
     "metadata": {},
     "output_type": "execute_result"
    }
   ],
   "source": [
    "messages = [HumanMessage(\"RAG agent tutorial\")]\n",
    "response = runnable.invoke(\n",
    "    {\"messages\": messages, \"schema\": [YouTubeSearch.schema(), APISearch.schema()]}\n",
    ")\n",
    "response"
   ]
  },
  {
   "cell_type": "code",
   "execution_count": 99,
   "id": "8579dd7f",
   "metadata": {},
   "outputs": [
    {
     "data": {
      "text/plain": [
       "{'data': [{'api_query': 'types of inputs accepted by ChatModels'}]}"
      ]
     },
     "execution_count": 99,
     "metadata": {},
     "output_type": "execute_result"
    }
   ],
   "source": [
    "messages = [HumanMessage(\"What types of inputs do ChatModels accept\")]\n",
    "response = runnable.invoke(\n",
    "    {\"messages\": messages, \"schema\": [YouTubeSearch.schema(), APISearch.schema()]}\n",
    ")\n",
    "response"
   ]
  },
  {
   "cell_type": "markdown",
   "id": "d3e5721e",
   "metadata": {},
   "source": [
    "### Step back"
   ]
  },
  {
   "cell_type": "code",
   "execution_count": 106,
   "id": "9be0f2de",
   "metadata": {},
   "outputs": [],
   "source": [
    "instructions = \"\"\"You are an expert at taking a specific question and extracting a more generic question that gets at \\\n",
    "the underlying principles needed to answer the specific question.\n",
    "\n",
    "You will be asked about a set of software for building LLM-powered applications called LangChain, LangGraph, LangServe, and LangSmith.\n",
    "\n",
    "LangChain is a Python framework that provides a large set of integrations that can easily be composed to build LLM applications.\n",
    "LangGraph is a Python package built on top of LangChain that makes it easy to build stateful, multi-actor LLM applications.\n",
    "LangServe is a Python package built on top of LangChain that makes it easy to deploy a LangChain application as a REST API.\n",
    "LangSmith is a platform that makes it easy to trace and test LLM applications.\n",
    "\n",
    "Given a specific user question about one or more of these products, write a more generic question that needs to be answered in order to answer the specific question.\"\"\"\n"
   ]
  },
  {
   "cell_type": "code",
   "execution_count": 108,
   "id": "65bf0219",
   "metadata": {},
   "outputs": [
    {
     "data": {
      "text/plain": [
       "{'data': [{'youtube_query': 'LangGraph agent event stream LLM calls'}]}"
      ]
     },
     "execution_count": 108,
     "metadata": {},
     "output_type": "execute_result"
    }
   ],
   "source": [
    "question = (\n",
    "    \"I built a LangGraph agent using Gemini Pro and tools like vectorstores and duckduckgo search. \"\n",
    "    \"How do I get just the LLM calls from the agent event stream.\"\n",
    ")\n",
    "response = runnable.invoke(\n",
    "    {\n",
    "        \"messages\": [HumanMessage(question)], \n",
    "        \"schema\": YouTubeSearch.schema(), \n",
    "        \"instructions\": instructions\n",
    "    }\n",
    ")\n",
    "response"
   ]
  },
  {
   "cell_type": "markdown",
   "id": "61bc6cb6",
   "metadata": {},
   "source": [
    "### Structuring"
   ]
  },
  {
   "cell_type": "code",
   "execution_count": 100,
   "id": "1d6c7f0a",
   "metadata": {},
   "outputs": [
    {
     "data": {
      "text/plain": [
       "{'data': [{'youtube_query': 'RAG agent tutorial', 'publish_year': 2023}]}"
      ]
     },
     "execution_count": 100,
     "metadata": {},
     "output_type": "execute_result"
    }
   ],
   "source": [
    "messages = [HumanMessage(\"RAG agent tutorial from 2023\")]\n",
    "response = runnable.invoke(\n",
    "    {\"messages\": messages, \"schema\": YouTubeSearch.schema()}\n",
    ")\n",
    "response"
   ]
  },
  {
   "cell_type": "markdown",
   "id": "5ab1c1b4",
   "metadata": {},
   "source": [
    "## High cardinality benchmarks"
   ]
  },
  {
   "cell_type": "markdown",
   "id": "ea5844c2",
   "metadata": {},
   "source": [
    "## Structured filters benchmarks"
   ]
  }
 ],
 "metadata": {
  "kernelspec": {
   "display_name": "extract-venv",
   "language": "python",
   "name": "extract-venv"
  },
  "language_info": {
   "codemirror_mode": {
    "name": "ipython",
    "version": 3
   },
   "file_extension": ".py",
   "mimetype": "text/x-python",
   "name": "python",
   "nbconvert_exporter": "python",
   "pygments_lexer": "ipython3",
   "version": "3.11.4"
  }
 },
 "nbformat": 4,
 "nbformat_minor": 5
}
