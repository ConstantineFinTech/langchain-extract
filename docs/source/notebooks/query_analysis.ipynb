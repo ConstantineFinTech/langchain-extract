{
 "cells": [
  {
   "cell_type": "markdown",
   "id": "7e43ed67-9fbb-4d6c-9a5d-8c4addeb2ed5",
   "metadata": {},
   "source": [
    "# Query analysis"
   ]
  },
  {
   "cell_type": "code",
   "execution_count": 17,
   "id": "b123c960-a0b4-4d5e-b15f-729de23974f5",
   "metadata": {
    "tags": []
   },
   "outputs": [],
   "source": [
    "from langserve import RemoteRunnable"
   ]
  },
  {
   "cell_type": "code",
   "execution_count": 18,
   "id": "19dafdeb-63c5-4218-b0f9-fc20754369be",
   "metadata": {
    "tags": []
   },
   "outputs": [],
   "source": [
    "from typing import Optional\n",
    "\n",
    "from langchain_core.pydantic_v1 import BaseModel, Field\n",
    "\n",
    "\n",
    "class Search(BaseModel):\n",
    "    \"\"\"Search over a database of tutorial videos about a software library.\"\"\"  # noqa\n",
    "\n",
    "    query: str = Field(\n",
    "        ...,\n",
    "        description=\"Similarity search query applied to video transcripts.\",  # noqa\n",
    "    )\n",
    "    publish_year: Optional[int] = Field(\n",
    "        None, description=\"Year video was published\"\n",
    "    )"
   ]
  },
  {
   "cell_type": "code",
   "execution_count": 19,
   "id": "bf79ef88-b816-46aa-addf-9366b7ebdcaf",
   "metadata": {
    "tags": []
   },
   "outputs": [],
   "source": [
    "runnable = RemoteRunnable(\"http://localhost:8000/query_analysis/\")"
   ]
  },
  {
   "cell_type": "code",
   "execution_count": 20,
   "id": "553d7dbc-9117-4834-83b1-11e28a513170",
   "metadata": {
    "tags": []
   },
   "outputs": [
    {
     "data": {
      "text/plain": [
       "{'data': [{'query': 'RAG agent tutorial', 'publish_year': 2023}]}"
      ]
     },
     "execution_count": 20,
     "metadata": {},
     "output_type": "execute_result"
    }
   ],
   "source": [
    "from langchain_core.messages import HumanMessage\n",
    "\n",
    "messages = [HumanMessage(\"RAG agent tutorial from 2023\")]\n",
    "response = runnable.invoke(\n",
    "    {\"messages\": messages, \"schema\": Search.schema()}\n",
    ")\n",
    "response"
   ]
  },
  {
   "cell_type": "markdown",
   "id": "c70d8d7c-5f0b-4757-92b7-cdd40f351275",
   "metadata": {},
   "source": [
    "Add instructions:"
   ]
  },
  {
   "cell_type": "code",
   "execution_count": 23,
   "id": "97294409-6daf-418d-9cbe-f44946245e35",
   "metadata": {
    "tags": []
   },
   "outputs": [
    {
     "data": {
      "text/plain": [
       "{'data': [{'query': 'RAG agent tutorial', 'publish_year': 2023}]}"
      ]
     },
     "execution_count": 23,
     "metadata": {},
     "output_type": "execute_result"
    }
   ],
   "source": [
    "instructions = (\n",
    "    \"Always expand acronym RAG to Retrieval Augmented Generation. \"\n",
    "    \"NEVER INCLUDE RAG IN THE SEARCH\"\n",
    ")\n",
    "\n",
    "response = runnable.invoke(\n",
    "    {\n",
    "        \"messages\": messages,\n",
    "        \"schema\": Search.schema(),\n",
    "        \"instructions\": instructions,\n",
    "    }\n",
    ")\n",
    "response"
   ]
  },
  {
   "cell_type": "markdown",
   "id": "24b4a123-7841-465b-b43b-1db439c45fa7",
   "metadata": {},
   "source": [
    "Add few-shot examples:"
   ]
  },
  {
   "cell_type": "code",
   "execution_count": 24,
   "id": "bae9416d-abd4-4b41-90c2-3144c8566483",
   "metadata": {
    "tags": []
   },
   "outputs": [
    {
     "data": {
      "text/plain": [
       "{'data': [{'query': 'RAG agent tutorial', 'publish_year': 2023}]}"
      ]
     },
     "execution_count": 24,
     "metadata": {},
     "output_type": "execute_result"
    }
   ],
   "source": [
    "examples = [\n",
    "    {\n",
    "        \"messages\": [HumanMessage(\"RAG from scratch series\")],\n",
    "        \"output\": [ \n",
    "            {\"search\": \"Retrieval Augmented Generation from scratch\"} \n",
    "        ],\n",
    "    }\n",
    "]\n",
    "\n",
    "response = runnable.invoke(\n",
    "    {\n",
    "        \"messages\": messages,\n",
    "        \"schema\": Search.schema(),\n",
    "        \"instructions\": instructions,\n",
    "        \"examples\": examples,\n",
    "    }\n",
    ")\n",
    "response"
   ]
  },
  {
   "cell_type": "markdown",
   "id": "d8619550",
   "metadata": {},
   "source": [
    "Trace: https://smith.langchain.com/public/7a95a5af-7f89-4312-90b8-88cc408de1a7/r"
   ]
  }
 ],
 "metadata": {
  "kernelspec": {
   "display_name": "extract-venv",
   "language": "python",
   "name": "extract-venv"
  },
  "language_info": {
   "codemirror_mode": {
    "name": "ipython",
    "version": 3
   },
   "file_extension": ".py",
   "mimetype": "text/x-python",
   "name": "python",
   "nbconvert_exporter": "python",
   "pygments_lexer": "ipython3",
   "version": "3.11.4"
  }
 },
 "nbformat": 4,
 "nbformat_minor": 5
}
